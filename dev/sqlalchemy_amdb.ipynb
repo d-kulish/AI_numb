{
 "cells": [
  {
   "cell_type": "markdown",
   "metadata": {},
   "source": [
    "# Configure Database Connection\n",
    "Set up connection parameters using environment variables or connection string formatting for database credentials."
   ]
  },
  {
   "cell_type": "code",
   "execution_count": 1,
   "metadata": {},
   "outputs": [
    {
     "ename": "NameError",
     "evalue": "name 'db_user' is not defined",
     "output_type": "error",
     "traceback": [
      "\u001b[0;31m---------------------------------------------------------------------------\u001b[0m",
      "\u001b[0;31mNameError\u001b[0m                                 Traceback (most recent call last)",
      "Cell \u001b[0;32mIn[1], line 18\u001b[0m\n\u001b[1;32m     15\u001b[0m db_ip \u001b[38;5;241m=\u001b[39m os\u001b[38;5;241m.\u001b[39mgetenv(\u001b[38;5;124m'\u001b[39m\u001b[38;5;124mDB_IP\u001b[39m\u001b[38;5;124m'\u001b[39m)\n\u001b[1;32m     17\u001b[0m \u001b[38;5;66;03m# Create the connection string\u001b[39;00m\n\u001b[0;32m---> 18\u001b[0m connection_string \u001b[38;5;241m=\u001b[39m \u001b[38;5;124mf\u001b[39m\u001b[38;5;124m\"\u001b[39m\u001b[38;5;124mpostgresql://\u001b[39m\u001b[38;5;132;01m{\u001b[39;00m\u001b[43mdb_user\u001b[49m\u001b[38;5;132;01m}\u001b[39;00m\u001b[38;5;124m:\u001b[39m\u001b[38;5;132;01m{\u001b[39;00mdb_password\u001b[38;5;132;01m}\u001b[39;00m\u001b[38;5;124m@\u001b[39m\u001b[38;5;132;01m{\u001b[39;00mdb_ip\u001b[38;5;132;01m}\u001b[39;00m\u001b[38;5;124m:\u001b[39m\u001b[38;5;132;01m{\u001b[39;00mdb_port\u001b[38;5;132;01m}\u001b[39;00m\u001b[38;5;124m/\u001b[39m\u001b[38;5;132;01m{\u001b[39;00mdb_name\u001b[38;5;132;01m}\u001b[39;00m\u001b[38;5;124m\"\u001b[39m\n\u001b[1;32m     20\u001b[0m \u001b[38;5;66;03m# Create the SQLAlchemy engine\u001b[39;00m\n\u001b[1;32m     21\u001b[0m engine \u001b[38;5;241m=\u001b[39m create_engine(connection_string)\n",
      "\u001b[0;31mNameError\u001b[0m: name 'db_user' is not defined"
     ]
    }
   ],
   "source": [
    "# Import necessary libraries\n",
    "from sqlalchemy import create_engine\n",
    "import os\n",
    "from dotenv import load_dotenv\n",
    "from pathlib import Path\n",
    "\n",
    "# Load environment variables from main project .env file\n",
    "load_dotenv(Path.cwd().parent / '.env')\n",
    "\n",
    "# Get all connection parameters from environment variables\n",
    "db_ip = os.getenv('DB_IP')\n",
    "db_user = os.getenv('DB_USER')\n",
    "db_password = os.getenv('DB_PASSWORD')\n",
    "db_name = os.getenv('DB_NAME')\n",
    "db_port = os.getenv('DB_PORT')\n",
    "\n",
    "# Create the connection string\n",
    "connection_string = f\"postgresql://{db_user}:{db_password}@{db_ip}:{db_port}/{db_name}\"\n",
    "\n",
    "# Create the SQLAlchemy engine\n",
    "engine = create_engine(connection_string)\n",
    "\n",
    "# Test the connection by printing the engine\n",
    "print(engine)\n"
   ]
  },
  {
   "cell_type": "markdown",
   "metadata": {},
   "source": [
    "# Create SQLAlchemy Engine\n",
    "Initialize SQLAlchemy engine using the connection string and demonstrate different ways to create the engine."
   ]
  },
  {
   "cell_type": "code",
   "execution_count": null,
   "metadata": {},
   "outputs": [],
   "source": [
    "# Create SQLAlchemy Engine\n",
    "\n",
    "# Initialize SQLAlchemy engine using the connection string\n",
    "engine = create_engine(connection_string)\n",
    "\n",
    "# Test the connection by printing the engine\n",
    "print(engine)\n",
    "\n",
    "# Demonstrate different ways to create the engine\n",
    "# Using URL object\n",
    "from sqlalchemy.engine.url import URL\n",
    "\n",
    "url = URL.create(\n",
    "    drivername=\"postgresql\",\n",
    "    username=db_user,\n",
    "    password=db_password,\n",
    "    host=db_ip,\n",
    "    port=db_port,\n",
    "    database=db_name,\n",
    "    password=db_password,\n",
    "    host=db_ip,\n",
    "    port=db_port,\n",
    "    database=db_name,\n",
    ")\n",
    "\n",
    "engine_from_url = create_engine(url)\n",
    "print(engine_from_url)\n",
    "\n",
    "# Using environment variables\n",
    "os.environ[\"DB_USER\"] = db_user\n",
    "os.environ[\"DB_PASSWORD\"] = db_password\n",
    "os.environ[\"DB_HOST\"] = db_ip\n",
    "os.environ[\"DB_PORT\"] = db_port\n",
    "os.environ[\"DB_NAME\"] = db_name\n",
    "\n",
    "connection_string_env = f'postgresql://{os.getenv(\"DB_USER\")}:{os.getenv(\"DB_PASSWORD\")}@{os.getenv(\"DB_HOST\")}:{os.getenv(\"DB_PORT\")}/{os.getenv(\"DB_NAME\")}'\n",
    "engine_from_env = create_engine(connection_string_env)\n",
    "print(engine_from_env)\n"
   ]
  },
  {
   "cell_type": "markdown",
   "metadata": {},
   "source": [
    "# Establish Connection\n",
    "Create a database session and demonstrate how to properly manage database connections."
   ]
  },
  {
   "cell_type": "code",
   "execution_count": null,
   "metadata": {},
   "outputs": [],
   "source": [
    "# Establish Connection\n",
    "\n",
    "from sqlalchemy.orm import sessionmaker\n",
    "\n",
    "# Create a configured \"Session\" class\n",
    "Session = sessionmaker(bind=engine)\n",
    "\n",
    "# Create a Session\n",
    "session = Session()\n",
    "\n",
    "# Test the connection by executing a simple query\n",
    "try:\n",
    "    result = session.execute(\"SELECT 1\")\n",
    "    print(\"Connection successful:\", result.fetchone())\n",
    "except Exception as e:\n",
    "    print(\"Connection failed:\", e)\n",
    "finally:\n",
    "    # Close the session\n",
    "    session.close()\n"
   ]
  },
  {
   "cell_type": "markdown",
   "metadata": {},
   "source": [
    "# Execute Basic Query Test\n",
    "Write and execute a simple SELECT query to verify the connection is working properly."
   ]
  },
  {
   "cell_type": "code",
   "execution_count": null,
   "metadata": {},
   "outputs": [],
   "source": [
    "# Execute Basic Query Test\n",
    "\n",
    "from sqlalchemy.orm import sessionmaker\n",
    "\n",
    "# Create a configured \"Session\" class\n",
    "Session = sessionmaker(bind=engine)\n",
    "\n",
    "# Create a Session\n",
    "session = Session()\n",
    "\n",
    "# Write and execute a simple SELECT query to verify the connection is working properly\n",
    "try:\n",
    "    result = session.execute(\"SELECT 1\")\n",
    "    print(\"Query executed successfully:\", result.fetchone())\n",
    "except Exception as e:\n",
    "    print(\"Query execution failed:\", e)\n",
    "finally:\n",
    "    # Close the session\n",
    "    session.close()\n"
   ]
  },
  {
   "cell_type": "markdown",
   "metadata": {},
   "source": [
    "# Implement Error Handling\n",
    "Implement try-except blocks for proper error handling during database operations."
   ]
  },
  {
   "cell_type": "code",
   "execution_count": null,
   "metadata": {},
   "outputs": [],
   "source": [
    "# Implement Error Handling\n",
    "\n",
    "from sqlalchemy.exc import SQLAlchemyError\n",
    "\n",
    "# Create a configured \"Session\" class\n",
    "Session = sessionmaker(bind=engine)\n",
    "\n",
    "# Create a Session\n",
    "session = Session()\n",
    "\n",
    "# Implement error handling for database operations\n",
    "try:\n",
    "    # Attempt to execute a query\n",
    "    result = session.execute(\"SELECT 1\")\n",
    "    print(\"Query executed successfully:\", result.fetchone())\n",
    "except SQLAlchemyError as e:\n",
    "    # Handle SQLAlchemy-specific errors\n",
    "    print(\"SQLAlchemy error occurred:\", e)\n",
    "except Exception as e:\n",
    "    # Handle general errors\n",
    "    print(\"An error occurred:\", e)\n",
    "finally:\n",
    "    # Ensure the session is closed\n",
    "    session.close()\n"
   ]
  },
  {
   "cell_type": "markdown",
   "metadata": {},
   "source": [
    "# Using Pandas with SQLAlchemy\n",
    "Demonstrate how to use pandas.read_sql() to fetch query results directly into DataFrames."
   ]
  },
  {
   "cell_type": "code",
   "execution_count": null,
   "metadata": {},
   "outputs": [],
   "source": [
    "# Using Pandas with SQLAlchemy\n",
    "\n",
    "import pandas as pd\n",
    "\n",
    "# Create a configured \"Session\" class\n",
    "Session = sessionmaker(bind=engine)\n",
    "\n",
    "# Create a Session\n",
    "session = Session()\n",
    "\n",
    "# Define a query to fetch data\n",
    "query = \"SELECT * FROM your_table_name LIMIT 10\"\n",
    "\n",
    "# Fetch the query results into a DataFrame\n",
    "try:\n",
    "    df = pd.read_sql(query, con=engine)\n",
    "    print(\"Data fetched successfully:\")\n",
    "    print(df.head())\n",
    "except SQLAlchemyError as e:\n",
    "    print(\"SQLAlchemy error occurred:\", e)\n",
    "except Exception as e:\n",
    "    print(\"An error occurred:\", e)\n",
    "finally:\n",
    "    # Close the session\n",
    "    session.close()\n"
   ]
  }
 ],
 "metadata": {
  "kernelspec": {
   "display_name": ".venv",
   "language": "python",
   "name": "python3"
  },
  "language_info": {
   "codemirror_mode": {
    "name": "ipython",
    "version": 3
   },
   "file_extension": ".py",
   "mimetype": "text/x-python",
   "name": "python",
   "nbconvert_exporter": "python",
   "pygments_lexer": "ipython3",
   "version": "3.13.1"
  }
 },
 "nbformat": 4,
 "nbformat_minor": 2
}
