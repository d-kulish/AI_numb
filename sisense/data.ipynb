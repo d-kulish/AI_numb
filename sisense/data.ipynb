{
 "cells": [
  {
   "cell_type": "markdown",
   "id": "c6fe0240",
   "metadata": {},
   "source": [
    "# Setting up "
   ]
  },
  {
   "cell_type": "code",
   "execution_count": 1,
   "id": "c15abf7a",
   "metadata": {},
   "outputs": [
    {
     "name": "stdout",
     "output_type": "stream",
     "text": [
      "Authentication successful!\n"
     ]
    }
   ],
   "source": [
    "import os\n",
    "import requests\n",
    "import pandas as pd\n",
    "import warnings\n",
    "from dotenv import load_dotenv\n",
    "from urllib.parse import quote\n",
    "\n",
    "# Suppress warnings and load environment variables\n",
    "warnings.filterwarnings('ignore', message='Unverified HTTPS request')\n",
    "load_dotenv()\n",
    "\n",
    "# Get Sisense credentials\n",
    "sisense_url = os.getenv(\"SISENSE_URL\")\n",
    "username = os.getenv(\"SISENSE_USER\")\n",
    "password = os.getenv(\"SISENSE_PASSWORD\")\n",
    "\n",
    "# Create and authenticate session\n",
    "session = requests.Session()\n",
    "session.verify = False\n",
    "session.get(f\"{sisense_url}/\")\n",
    "auth_response = session.post(f\"{sisense_url}/api/v1/authentication/login\", \n",
    "                            json={\"username\": username, \"password\": password})\n",
    "\n",
    "if auth_response.status_code == 200:\n",
    "    # Extract tokens if available\n",
    "    try:\n",
    "        resp_data = auth_response.json()\n",
    "        if 'access_token' in resp_data:\n",
    "            session.headers.update({\n",
    "                \"Authorization\": f\"Bearer {resp_data['access_token']}\",\n",
    "                \"Content-Type\": \"application/json\",\n",
    "                \"accept\": \"application/json\"\n",
    "            })\n",
    "            if 'csrf_token' in resp_data:\n",
    "                session.headers.update({\"X-XSRF-TOKEN\": resp_data['csrf_token']})\n",
    "        print(\"Authentication successful!\")\n",
    "    except Exception as e:\n",
    "        print(f\"Error setting up headers: {e}\")\n",
    "else:\n",
    "    print(f\"Authentication failed: {auth_response.status_code}\")\n"
   ]
  },
  {
   "cell_type": "code",
   "execution_count": 3,
   "id": "28c1f771",
   "metadata": {},
   "outputs": [],
   "source": [
    "def run_sql_query(query, datasource=\"RAD_NOVUS_FULL\", count=-1):\n",
    "    \"\"\"\n",
    "    Run a SQL query against the specified Sisense datasource\n",
    "    \n",
    "    Parameters:\n",
    "    - query: SQL query string\n",
    "    - datasource: Name of the Sisense datasource\n",
    "    - count: Number of rows to return (-1 for all)\n",
    "    \n",
    "    Returns:\n",
    "    - Pandas DataFrame with the results\n",
    "    \"\"\"\n",
    "    # Encode query for URL\n",
    "    encoded_query = quote(query)\n",
    "    \n",
    "    # Build endpoint URL\n",
    "    endpoint = f\"{sisense_url}/api/datasources/{datasource}/sql?count={count}&includeMetadata=true&query={encoded_query}\"\n",
    "    \n",
    "    # Execute the request\n",
    "    response = session.get(endpoint)\n",
    "    \n",
    "    if response.status_code == 200:\n",
    "        data = response.json()\n",
    "        \n",
    "        if 'values' in data and 'headers' in data:\n",
    "            # Create DataFrame from the response\n",
    "            df = pd.DataFrame(data=data[\"values\"], columns=data[\"headers\"])\n",
    "            print(f\"Query executed successfully. Retrieved {len(df)} rows.\")\n",
    "            \n",
    "            # Display SQL if available in metadata\n",
    "            if 'metadata' in data and 'sql' in data['metadata']:\n",
    "                print(f\"\\nExecuted SQL:\\n{data['metadata']['sql']}\")\n",
    "                \n",
    "            return df\n",
    "        else:\n",
    "            print(\"Unexpected response format\")\n",
    "            print(data)\n",
    "            return None\n",
    "    else:\n",
    "        print(f\"Query failed: {response.status_code}\")\n",
    "        print(response.text)\n",
    "        return None\n"
   ]
  },
  {
   "cell_type": "markdown",
   "id": "0a9f8ba4",
   "metadata": {},
   "source": [
    "# C4R_CM_Project_Data_Check_DEV"
   ]
  },
  {
   "cell_type": "code",
   "execution_count": null,
   "id": "39ab6168",
   "metadata": {},
   "outputs": [
    {
     "data": {
      "text/plain": [
       "\" \\nTables: \\n- 'pr_project'; \\n- \\n\""
      ]
     },
     "execution_count": 6,
     "metadata": {},
     "output_type": "execute_result"
    }
   ],
   "source": [
    "\"\"\" \n",
    "Cube - 'C4R_CM_Project_Data_Check_DEV'. \n",
    "Tables: \n",
    "- 'attribute_check'; - product_id connected to product features; \n",
    "# - 'BM_datacheck'; - project week start and end; \n",
    "# - 'num8erz_user'; - table for users login, not important \n",
    "- 'pr_chosenfils_dtl'; - Store_id connected to project_id \n",
    "- 'pr_chosenupcs'; - project_id connected to UPC_id (probably, this is product_id) \n",
    "- 'pr_project'; - project description details; \n",
    "- 'Prods_prod'; - product_id and some product details; \n",
    "- 'sales_check'; - sales generated by project_id; \n",
    "- 'Stocks';  - stores details; \n",
    "\"\"\"\n"
   ]
  },
  {
   "cell_type": "code",
   "execution_count": 18,
   "id": "45ad7c06",
   "metadata": {},
   "outputs": [
    {
     "name": "stdout",
     "output_type": "stream",
     "text": [
      "Query executed successfully. Retrieved 6 rows.\n"
     ]
    },
    {
     "data": {
      "text/html": [
       "<div>\n",
       "<style scoped>\n",
       "    .dataframe tbody tr th:only-of-type {\n",
       "        vertical-align: middle;\n",
       "    }\n",
       "\n",
       "    .dataframe tbody tr th {\n",
       "        vertical-align: top;\n",
       "    }\n",
       "\n",
       "    .dataframe thead th {\n",
       "        text-align: right;\n",
       "    }\n",
       "</style>\n",
       "<table border=\"1\" class=\"dataframe\">\n",
       "  <thead>\n",
       "    <tr style=\"text-align: right;\">\n",
       "      <th></th>\n",
       "      <th>start_date</th>\n",
       "      <th>end_date</th>\n",
       "      <th>project_name</th>\n",
       "      <th>project_id</th>\n",
       "    </tr>\n",
       "  </thead>\n",
       "  <tbody>\n",
       "    <tr>\n",
       "      <th>0</th>\n",
       "      <td>2023-09-10T00:00:00</td>\n",
       "      <td>2024-09-10T00:00:00</td>\n",
       "      <td>Sparkling Demo 09102024</td>\n",
       "      <td>186</td>\n",
       "    </tr>\n",
       "    <tr>\n",
       "      <th>1</th>\n",
       "      <td>2023-09-25T00:00:00</td>\n",
       "      <td>2024-09-25T00:00:00</td>\n",
       "      <td>Intermarche_wina</td>\n",
       "      <td>203</td>\n",
       "    </tr>\n",
       "    <tr>\n",
       "      <th>2</th>\n",
       "      <td>2023-09-25T00:00:00</td>\n",
       "      <td>2024-09-25T00:00:00</td>\n",
       "      <td>Sparkling Demo_v1</td>\n",
       "      <td>204</td>\n",
       "    </tr>\n",
       "    <tr>\n",
       "      <th>3</th>\n",
       "      <td>2023-09-27T00:00:00</td>\n",
       "      <td>2024-09-27T00:00:00</td>\n",
       "      <td>Intermarche_wina2</td>\n",
       "      <td>205</td>\n",
       "    </tr>\n",
       "    <tr>\n",
       "      <th>4</th>\n",
       "      <td>2023-10-07T00:00:00</td>\n",
       "      <td>2024-10-07T00:00:00</td>\n",
       "      <td>qwqw</td>\n",
       "      <td>206</td>\n",
       "    </tr>\n",
       "    <tr>\n",
       "      <th>5</th>\n",
       "      <td>2023-09-02T00:00:00</td>\n",
       "      <td>2024-09-02T00:00:00</td>\n",
       "      <td>Sparkling_6.1_algo_02.01.2025</td>\n",
       "      <td>207</td>\n",
       "    </tr>\n",
       "  </tbody>\n",
       "</table>\n",
       "</div>"
      ],
      "text/plain": [
       "            start_date             end_date                   project_name  \\\n",
       "0  2023-09-10T00:00:00  2024-09-10T00:00:00        Sparkling Demo 09102024   \n",
       "1  2023-09-25T00:00:00  2024-09-25T00:00:00               Intermarche_wina   \n",
       "2  2023-09-25T00:00:00  2024-09-25T00:00:00              Sparkling Demo_v1   \n",
       "3  2023-09-27T00:00:00  2024-09-27T00:00:00              Intermarche_wina2   \n",
       "4  2023-10-07T00:00:00  2024-10-07T00:00:00                           qwqw   \n",
       "5  2023-09-02T00:00:00  2024-09-02T00:00:00  Sparkling_6.1_algo_02.01.2025   \n",
       "\n",
       "   project_id  \n",
       "0         186  \n",
       "1         203  \n",
       "2         204  \n",
       "3         205  \n",
       "4         206  \n",
       "5         207  "
      ]
     },
     "metadata": {},
     "output_type": "display_data"
    }
   ],
   "source": [
    "# Example: Query the stores table\n",
    "cube = 'C4R_CM_Project_Data_Check_DEV'\n",
    "table = 'pr_project'\n",
    "# query = f\"SELECT * FROM {table}\"\n",
    "query = f\"SELECT data_start as start_date, data_fin as end_date, project_name, project_id FROM {table}\"\n",
    "stores_df = run_sql_query(query, cube)\n",
    "\n",
    "display(stores_df)\n"
   ]
  },
  {
   "cell_type": "code",
   "execution_count": 17,
   "id": "afaf1455",
   "metadata": {},
   "outputs": [
    {
     "name": "stdout",
     "output_type": "stream",
     "text": [
      "Query executed successfully. Retrieved 6 rows.\n"
     ]
    },
    {
     "data": {
      "text/html": [
       "<div>\n",
       "<style scoped>\n",
       "    .dataframe tbody tr th:only-of-type {\n",
       "        vertical-align: middle;\n",
       "    }\n",
       "\n",
       "    .dataframe tbody tr th {\n",
       "        vertical-align: top;\n",
       "    }\n",
       "\n",
       "    .dataframe thead th {\n",
       "        text-align: right;\n",
       "    }\n",
       "</style>\n",
       "<table border=\"1\" class=\"dataframe\">\n",
       "  <thead>\n",
       "    <tr style=\"text-align: right;\">\n",
       "      <th></th>\n",
       "      <th>start_date</th>\n",
       "      <th>end_date</th>\n",
       "      <th>project_name</th>\n",
       "      <th>project_id</th>\n",
       "    </tr>\n",
       "  </thead>\n",
       "  <tbody>\n",
       "    <tr>\n",
       "      <th>0</th>\n",
       "      <td>2023-09-10T00:00:00</td>\n",
       "      <td>2024-09-10T00:00:00</td>\n",
       "      <td>Sparkling Demo 09102024</td>\n",
       "      <td>186</td>\n",
       "    </tr>\n",
       "    <tr>\n",
       "      <th>1</th>\n",
       "      <td>2023-09-25T00:00:00</td>\n",
       "      <td>2024-09-25T00:00:00</td>\n",
       "      <td>Intermarche_wina</td>\n",
       "      <td>203</td>\n",
       "    </tr>\n",
       "    <tr>\n",
       "      <th>2</th>\n",
       "      <td>2023-09-25T00:00:00</td>\n",
       "      <td>2024-09-25T00:00:00</td>\n",
       "      <td>Sparkling Demo_v1</td>\n",
       "      <td>204</td>\n",
       "    </tr>\n",
       "    <tr>\n",
       "      <th>3</th>\n",
       "      <td>2023-09-27T00:00:00</td>\n",
       "      <td>2024-09-27T00:00:00</td>\n",
       "      <td>Intermarche_wina2</td>\n",
       "      <td>205</td>\n",
       "    </tr>\n",
       "    <tr>\n",
       "      <th>4</th>\n",
       "      <td>2023-10-07T00:00:00</td>\n",
       "      <td>2024-10-07T00:00:00</td>\n",
       "      <td>qwqw</td>\n",
       "      <td>206</td>\n",
       "    </tr>\n",
       "    <tr>\n",
       "      <th>5</th>\n",
       "      <td>2023-09-02T00:00:00</td>\n",
       "      <td>2024-09-02T00:00:00</td>\n",
       "      <td>Sparkling_6.1_algo_02.01.2025</td>\n",
       "      <td>207</td>\n",
       "    </tr>\n",
       "  </tbody>\n",
       "</table>\n",
       "</div>"
      ],
      "text/plain": [
       "            start_date             end_date                   project_name  \\\n",
       "0  2023-09-10T00:00:00  2024-09-10T00:00:00        Sparkling Demo 09102024   \n",
       "1  2023-09-25T00:00:00  2024-09-25T00:00:00               Intermarche_wina   \n",
       "2  2023-09-25T00:00:00  2024-09-25T00:00:00              Sparkling Demo_v1   \n",
       "3  2023-09-27T00:00:00  2024-09-27T00:00:00              Intermarche_wina2   \n",
       "4  2023-10-07T00:00:00  2024-10-07T00:00:00                           qwqw   \n",
       "5  2023-09-02T00:00:00  2024-09-02T00:00:00  Sparkling_6.1_algo_02.01.2025   \n",
       "\n",
       "   project_id  \n",
       "0         186  \n",
       "1         203  \n",
       "2         204  \n",
       "3         205  \n",
       "4         206  \n",
       "5         207  "
      ]
     },
     "metadata": {},
     "output_type": "display_data"
    }
   ],
   "source": [
    "# Example: Query the stores table\n",
    "cube = 'C4R_CM_Project_Data_Check_DEV'\n",
    "table = 'pr_project'\n",
    "query = f\"SELECT data_start as start_date, data_fin as end_date, project_name, project_id FROM {table}\"\n",
    "stores_df = run_sql_query(query, cube)\n",
    "\n",
    "display(stores_df)\n"
   ]
  },
  {
   "cell_type": "code",
   "execution_count": null,
   "id": "81f32983",
   "metadata": {},
   "outputs": [],
   "source": []
  }
 ],
 "metadata": {
  "kernelspec": {
   "display_name": ".venv",
   "language": "python",
   "name": "python3"
  },
  "language_info": {
   "codemirror_mode": {
    "name": "ipython",
    "version": 3
   },
   "file_extension": ".py",
   "mimetype": "text/x-python",
   "name": "python",
   "nbconvert_exporter": "python",
   "pygments_lexer": "ipython3",
   "version": "3.13.2"
  }
 },
 "nbformat": 4,
 "nbformat_minor": 5
}
